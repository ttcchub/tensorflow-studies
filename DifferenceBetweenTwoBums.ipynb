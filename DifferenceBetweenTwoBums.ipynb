def calculate_percentage_difference(a, b):
    numerator = abs(a - b)
    denominator = (a + b) / 2
    percentage_difference = 100 * numerator / denominator
    return percentage_difference

def calculate_difference(a, b):
    diff = abs(a - b)
    return diff

# Example usage
a = 100
b = 45

percentage_diff = calculate_percentage_difference(a, b)
print(f"The percentage difference between {a} and {b} is {percentage_diff}%")
diff = calculate_difference(a, b)
print(f"The difference between {a} and {b} is {diff}")
